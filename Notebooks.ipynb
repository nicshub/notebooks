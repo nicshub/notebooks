{
 "cells": [
  {
   "cell_type": "markdown",
   "metadata": {
    "slideshow": {
     "slide_type": "slide"
    }
   },
   "source": [
    "<h1>Interactive and collaborative big data analysis using notebooks</h1>\n",
    "<h2>Master UPA - Data Science - 2019-10-25</h2>\n",
    "<a href=\"https://about.me/snicotra\" rel=\"author\">Salvo Nicotra (https://about.me/snicotra)</a>"
   ]
  },
  {
   "cell_type": "markdown",
   "metadata": {
    "slideshow": {
     "slide_type": "slide"
    }
   },
   "source": [
    "# Agenda \n",
    "* Notebooks\n",
    "     * What they are ? (Inspiration)\n",
    "     * Who use them ? (Usage)\n",
    "     * How they works (Examples)\n",
    "* Jupyter Notebook\n",
    "     * Install Jupyter in local enviroment\n",
    "     * Present a notebook \n",
    "     * The future of Notebooks (Jupyter Lab)\n",
    "* Notebooks in the Cloud\n",
    "     * Google DataLab, Notebook Azure, Amazon SageMaker \n",
    "* Will the notebook save the world ? \n",
    "No they don't"
   ]
  },
  {
   "cell_type": "markdown",
   "metadata": {
    "slideshow": {
     "slide_type": "slide"
    }
   },
   "source": [
    "# A magic notebook\n",
    "<center>\n",
    "<video controls>\n",
    "   <source src=\"video/Harry Potter and the Chamber of Secrets_ Diary Scene - 360p.mp4#t=40,65\"/>\n",
    "</video>\n",
    "</center>"
   ]
  },
  {
   "cell_type": "markdown",
   "metadata": {
    "slideshow": {
     "slide_type": "slide"
    }
   },
   "source": [
    "# Notebook Interface\n",
    "> A notebook interface (also called a computational notebook) is a virtual notebook environment\n",
    "It pairs the functionality of word processing software with both the shell and kernel of that notebook's programming language. Millions of people use notebooks interface to analyze data for science, journalism, and education.\n",
    "[Wikipedia](https://en.wikipedia.org/wiki/Notebook_interface)"
   ]
  },
  {
   "cell_type": "markdown",
   "metadata": {
    "slideshow": {
     "slide_type": "slide"
    }
   },
   "source": [
    "# A notebook just tells a story\n",
    "[Example Notebook](https://nbviewer.jupyter.org/github/rhiever/Data-Analysis-and-Machine-Learning-Projects/blob/master/example-data-science-notebook/Example%20Machine%20Learning%20Notebook.ipynb)"
   ]
  },
  {
   "cell_type": "markdown",
   "metadata": {
    "slideshow": {
     "slide_type": "slide"
    }
   },
   "source": [
    "# Origins\n",
    "In 1988 the notebook interface was used as Mathematica frontend\n",
    "![Image](images/wolfram.png)"
   ]
  },
  {
   "cell_type": "markdown",
   "metadata": {
    "slideshow": {
     "slide_type": "slide"
    }
   },
   "source": [
    "# Literate Programming"
   ]
  },
  {
   "cell_type": "markdown",
   "metadata": {
    "slideshow": {
     "slide_type": "fragment"
    }
   },
   "source": [
    "Literate programming: Instead of imagining that our main task is to instruct a computer what to do, let us concentrate rather on explaining to human beings what we want a computer to do. \n",
    "> Donald Knuth (1984)"
   ]
  },
  {
   "cell_type": "markdown",
   "metadata": {
    "slideshow": {
     "slide_type": "fragment"
    }
   },
   "source": [
    "Literate computing: A literate computing environment is one that allows users not only to execute commands interactively but also to store in a literate document format the results of these commands along with figures and free-form text that can include formatted mathematical expressions. \n",
    "> Millman KJ and Perez F (2014) and also Fernando Perez "
   ]
  },
  {
   "cell_type": "markdown",
   "metadata": {
    "slideshow": {
     "slide_type": "slide"
    }
   },
   "source": [
    "Repl \n",
    "\n",
    "https://en.wikipedia.org/wiki/Read%E2%80%93eval%E2%80%93print_loop"
   ]
  },
  {
   "cell_type": "markdown",
   "metadata": {
    "slideshow": {
     "slide_type": "slide"
    }
   },
   "source": [
    "# Netflix\n",
    "![Image](images/notebooks-everywhere-netflix.jpg)\n",
    "https://softwareengineeringdaily.com/2019/01/15/notebooks-at-netflix-with-matthew-seal/\n",
    "https://medium.com/netflix-techblog/notebook-innovation-591ee3221233"
   ]
  },
  {
   "cell_type": "markdown",
   "metadata": {
    "slideshow": {
     "slide_type": "subslide"
    }
   },
   "source": [
    "## Increase of roles around data\n",
    "> Over the last 10 years, data engineering has become a key component\n",
    "of what makes Netflix successful. There are many different engineering roles who interact with\n",
    "the data infrastructure at Netflix. These include data analysts, machine learning scientists,\n",
    "analytics engineers and software engineers. [...]\n",
    "As data engineering and data science has grown, the tooling has expanded. The people in\n",
    "different data roles at Netflix might use Apache Spark, or Presto, or Python, or Scala, or SQL, or\n",
    "many other applications to study data. But in recent years, there is one tool that has stood out\n",
    "for its ability to be distinctly useful - Jupyter Notebooks. "
   ]
  },
  {
   "cell_type": "markdown",
   "metadata": {
    "slideshow": {
     "slide_type": "subslide"
    }
   },
   "source": [
    "## Need for a centralized (and explanatory) reference\n",
    "> JM: For an engineer at Netflix, for let’s say a machine learning researcher, a data\n",
    "scientist, one of these data roles that are using a notebook, what have the notebooks replaced?\n",
    "What were they using before that?\n",
    "\n",
    ">MS: Yeah. I think it’s an interesting question. So to give a little bit of context, so at\n",
    "Netflix as you’ve mentioned, it’s not just like a few users using this. I think it’s something like 10\n",
    "or 12% of all Netflix employees have edited a notebook in the past month. The use case –\n",
    "Where they were used before for tooling was it was a mix of things. It was either very\n",
    "unorganized. It was something like I have just some scripts that I have somewhere in S3 and\n",
    "I’ve put them there and then I forget about them, and the next person comes along, has to kind\n",
    "of rewrite stuff, because they don’t know where or how I organize my code."
   ]
  },
  {
   "cell_type": "markdown",
   "metadata": {
    "slideshow": {
     "slide_type": "slide"
    }
   },
   "source": [
    "# Bring Your Learning to Life\n",
    "![Image](images/oreilly.svg)\n",
    "\n",
    "For a limited time only, you can preview one of our new premium content formats that will soon require an account upgrade to access. Don’t just learn—do. Apply the skills you’re reading about in real time with interactive Jupyter Notebooks.\n",
    "\n",
    "- Practice while you learn with right-sized interactive examples and exercises\n",
    "- Input, edit, run code, and render live results inline with the author’s explanation\n",
    "- Start learning fast—there’s no software to install\n",
    "- Download notebooks to read, review, and practice with later\n",
    "\n",
    "https://www.oreilly.com/online-learning/introducing-jupyter-notebooks.html"
   ]
  },
  {
   "cell_type": "markdown",
   "metadata": {
    "slideshow": {
     "slide_type": "fragment"
    }
   },
   "source": [
    "# PythonDataScienceHandbook\n",
    "https://jakevdp.github.io/PythonDataScienceHandbook/"
   ]
  },
  {
   "cell_type": "markdown",
   "metadata": {
    "slideshow": {
     "slide_type": "fragment"
    }
   },
   "source": [
    "# A Whirlwind Tour of Python\n",
    "https://github.com/jakevdp/WhirlwindTourOfPython "
   ]
  },
  {
   "cell_type": "markdown",
   "metadata": {
    "slideshow": {
     "slide_type": "slide"
    }
   },
   "source": [
    "# Let's give it a try\n",
    "## Data Set \n",
    "### data.world \n",
    "https://data.world/data-society/bank-marketing-data"
   ]
  },
  {
   "cell_type": "markdown",
   "metadata": {
    "slideshow": {
     "slide_type": "slide"
    }
   },
   "source": [
    "# Let's see Jupyter \n",
    "[Jupyter](/Jupyter.slides.html)"
   ]
  }
 ],
 "metadata": {
  "celltoolbar": "Slideshow",
  "kernelspec": {
   "display_name": "Python 3",
   "language": "python",
   "name": "python3"
  },
  "language_info": {
   "codemirror_mode": {
    "name": "ipython",
    "version": 3
   },
   "file_extension": ".py",
   "mimetype": "text/x-python",
   "name": "python",
   "nbconvert_exporter": "python",
   "pygments_lexer": "ipython3",
   "version": "3.7.6"
  },
  "rise": {
   "autolaunch": true,
   "footer": "<div id='copyright'>@Neodata Lab, do not distribute</div>",
   "header": "<img src='images/upalogo.png' id='logoupa'/><img src='images/logo_neolab.png' id='logoneo'/>",
   "scroll": true,
   "theme": "serif"
  }
 },
 "nbformat": 4,
 "nbformat_minor": 4
}
